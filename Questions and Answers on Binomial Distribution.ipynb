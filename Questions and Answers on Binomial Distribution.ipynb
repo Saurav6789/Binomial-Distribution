{
 "cells": [
  {
   "cell_type": "markdown",
   "metadata": {
    "colab_type": "text",
    "id": "BWVHZ3Ic1ZgY"
   },
   "source": [
    "# 1.You flip a fair coin 10 times. What is the probability of getting 8 or more heads? "
   ]
  },
  {
   "cell_type": "markdown",
   "metadata": {
    "colab_type": "text",
    "id": "gZP9Bwa91Zgc"
   },
   "source": [
    "You may use the Binomial Calculator (n = 10, p = .5, > or = 8). Otherwise add up the probability of getting 8, 9, \n",
    "and 10 heads: .044 + .01 + .001 = .055"
   ]
  },
  {
   "cell_type": "markdown",
   "metadata": {
    "colab_type": "text",
    "id": "0txMw9Pj1Zge"
   },
   "source": [
    "# 2. The probability that you will win a certain game is 0.3. You play the game 20 times. What is the mean of this binomial distribution?\n"
   ]
  },
  {
   "cell_type": "markdown",
   "metadata": {
    "colab_type": "text",
    "id": "tG62Fw-F1Zgg"
   },
   "source": [
    "M = np = 20 x 0.3 = 6"
   ]
  },
  {
   "cell_type": "markdown",
   "metadata": {
    "colab_type": "text",
    "id": "zJtN1crG1Zgi"
   },
   "source": [
    "# 3. An automatic camera records the number of cars running a red light at an intersection (that is, the cars were going through when the red light was against the car). Analysis of the data shows that on average 15% of light changes record a car running a red light. Assume that the data has a binomial distribution. What is theprobability that in 20 light changes there will be exactly three (3) cars running a red light?"
   ]
  },
  {
   "cell_type": "code",
   "execution_count": 0,
   "metadata": {
    "colab": {},
    "colab_type": "code",
    "id": "hEhm4Cqh1Zgk"
   },
   "outputs": [],
   "source": [
    "Write out the key statistics from the information given:\n",
    "p =0.15, n=20, X=3\n",
    "\n",
    "Apply the formula, substituting these values:\n",
    "    P(X=3)=  20C3 * 0.15^3 * 0.85^17 = 0.243\n",
    "That is, the probability that in 20 light changes there will be three (3) cars running a\n",
    "red light is 0.24 (24%).\n"
   ]
  },
  {
   "cell_type": "markdown",
   "metadata": {
    "colab_type": "text",
    "id": "viaobdLQ1Zgu"
   },
   "source": [
    "# 4. There are 15 sets of traffic lights on the journey.The probability that a driver must stop at any one traffic light coming to alliance University is 0.3  a) What is the probability that a student must stop at exactly 2 of the 15 sets oftraffic lights?  b) What is the probability that a student will be stopped at 1 or more of the 15sets of traffic lights? "
   ]
  },
  {
   "cell_type": "markdown",
   "metadata": {
    "colab_type": "text",
    "id": "hxF1pr7g1Zgw"
   },
   "source": [
    "a) P=0.3, n=15, X=2\n",
    "=> P(X=2)= 15C2 * 0.3^2 * 0.7^13 = 0.0915  i.e, 9%"
   ]
  },
  {
   "cell_type": "markdown",
   "metadata": {
    "colab_type": "text",
    "id": "aIpoPyHJ1Zgy"
   },
   "source": [
    "b) P(X>=1)= 1- P(X < 1)= 1 - P(X = 0)\n",
    "1- 15C0 * 0.2^0 * 0.8^ 15 = 0.9648 = 97%"
   ]
  },
  {
   "cell_type": "markdown",
   "metadata": {
    "colab_type": "text",
    "id": "a5SUuoTk1Zg0"
   },
   "source": [
    "# 5. What is the area under the curve of a probability distribution? Explain."
   ]
  },
  {
   "cell_type": "markdown",
   "metadata": {
    "colab_type": "text",
    "id": "WlXfNxwW1Zg4"
   },
   "source": [
    "The area is 1 by definition, meaning that the probability that a score chosen at random will occur under the curve is 1."
   ]
  },
  {
   "cell_type": "markdown",
   "metadata": {
    "colab_type": "text",
    "id": "6TkWvJhI1Zg9"
   },
   "source": [
    "# 6. My Bank has a large Credit Card portfolio. Based on empirical data, they have found that 60% of the customers pay their bill on time. If a sample of 10 accounts is selected from the current database, construct the Probability Distribution of accounts paying on time.\n",
    "Hint: Make use of Function used in Excel or R"
   ]
  },
  {
   "cell_type": "markdown",
   "metadata": {
    "colab_type": "text",
    "id": "EDMxCg5P1ZhD"
   },
   "source": [
    "Function in Excel BINOM.DIST(nSuccess, Trials, Prob, Cum)\n",
    "Function in R dbinom(x, size, prob) ## Probabailty pbinom(x, size, prob) ## Cum. Probability"
   ]
  },
  {
   "cell_type": "markdown",
   "metadata": {
    "colab_type": "text",
    "id": "dn-21FG-1ZhF"
   },
   "source": [
    "# 7. If the likelihood of a tagged order form is 0.1, What is the probability that there are three tagged order forms in the sample of four?\n",
    "Hint: Use Binomial distribution equation"
   ]
  },
  {
   "cell_type": "markdown",
   "metadata": {
    "colab_type": "text",
    "id": "mTqXJkwz1ZhI"
   },
   "source": [
    "Determining P(X = 3), Given n=4 and pi =0.1\n",
    "P(X=3|n = 4, pi = 0.1)\n",
    "4!/3!(4-3)! * (0.1)^3 * (1-0.1)^4-3 = 0.0036"
   ]
  },
  {
   "cell_type": "markdown",
   "metadata": {
    "colab_type": "text",
    "id": "Vk_g2djk1ZhK"
   },
   "source": [
    "# 8. Determine the following:\n",
    "where n = number of observations\n",
    "π = probability of an event of interest\n",
    "\n",
    "a) For n = 4 and π = 0.12, what is P(X = 0)? \n",
    "\n",
    "b) For n = 6 and π = 0.83, what is P(X = 5)?"
   ]
  },
  {
   "cell_type": "code",
   "execution_count": 0,
   "metadata": {
    "colab": {},
    "colab_type": "code",
    "id": "Dfdm9fg71ZhM"
   },
   "outputs": [],
   "source": [
    "a) 0.5599(0.6)\n",
    "b) 0.408"
   ]
  },
  {
   "cell_type": "markdown",
   "metadata": {
    "colab_type": "text",
    "id": "oHF7amaE5if5"
   },
   "source": []
  },
  {
   "cell_type": "markdown",
   "metadata": {
    "colab_type": "text",
    "id": "wQq1hwAt1ZhS"
   },
   "source": [
    "# 9.Determine the mean and standard deviation of the variable X in each of the following binomial distributions:\n",
    "a) n = 4 and π = 0.10\n",
    "\n",
    "b) n = 5 and π = 0.80"
   ]
  },
  {
   "cell_type": "markdown",
   "metadata": {
    "colab_type": "text",
    "id": "foLwyn3Y1ZhU"
   },
   "source": [
    "a) 0.40, 0.60\n",
    "b) 4.0, 0.894"
   ]
  }
 ],
 "metadata": {
  "colab": {
   "collapsed_sections": [],
   "name": "M2 W1 - PE_Withsolution.ipynb",
   "provenance": [],
   "version": "0.3.2"
  },
  "kernelspec": {
   "display_name": "Python 3",
   "language": "python",
   "name": "python3"
  },
  "language_info": {
   "codemirror_mode": {
    "name": "ipython",
    "version": 3
   },
   "file_extension": ".py",
   "mimetype": "text/x-python",
   "name": "python",
   "nbconvert_exporter": "python",
   "pygments_lexer": "ipython3",
   "version": "3.7.1"
  }
 },
 "nbformat": 4,
 "nbformat_minor": 1
}
